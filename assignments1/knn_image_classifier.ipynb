{
 "cells": [
  {
   "cell_type": "markdown",
   "metadata": {},
   "source": [
    "# KNN Image Classifier\n",
    "\n",
    "* Dataset from [University of Toronto - CS](https://www.cs.toronto.edu/~kriz/cifar.html)\n",
    "* [list of CS231n assignment 1](http://cs231n.stanford.edu/slides/2017/cs231n_2017_lecture2.pdf)\n",
    "* This KNN image classifier is a first assignment of CS231n."
   ]
  },
  {
   "cell_type": "code",
   "execution_count": 1,
   "metadata": {},
   "outputs": [],
   "source": [
    "import numpy as np\n",
    "import pickle"
   ]
  },
  {
   "cell_type": "code",
   "execution_count": 2,
   "metadata": {},
   "outputs": [],
   "source": [
    "# Hyperparameters\n",
    "K = 3"
   ]
  },
  {
   "cell_type": "code",
   "execution_count": 3,
   "metadata": {},
   "outputs": [],
   "source": [
    "# a function that loads data from file\n",
    "def unpickle(file):\n",
    "    with open(file, 'rb') as fo:\n",
    "        data = pickle.load(fo, encoding='bytes')\n",
    "    return data"
   ]
  },
  {
   "cell_type": "code",
   "execution_count": 4,
   "metadata": {},
   "outputs": [],
   "source": [
    "# Manhattan distance\n",
    "def L1_distance(x, y):\n",
    "    return np.abs(np.sum(x - y))\n",
    "\n",
    "# Euclidean distance\n",
    "def L2_distance(x, y):\n",
    "    return np.sqrt(np.abs(np.sum((x-y) ** 2)))"
   ]
  },
  {
   "cell_type": "code",
   "execution_count": 5,
   "metadata": {},
   "outputs": [],
   "source": [
    "batches = {'data': [], 'label': []}\n",
    "\n",
    "def train(data, labels):\n",
    "    # Training process of KNN is just remembering all images and labels.\n",
    "    batches['data'].extend(data)\n",
    "    batches['label'].extend(labels)\n",
    "    \n",
    "def predict(item, distance=L1_distance):\n",
    "    min_values = []\n",
    "    min_labels = []\n",
    "    \n",
    "    data = batches['data']\n",
    "    labels = batches['label']\n",
    "    \n",
    "    for index in range(len(data)):\n",
    "        d = distance(item, data[index])\n",
    "        \n",
    "        if len(min_values) < K:\n",
    "            min_values.append(d)\n",
    "            min_labels.append(labels[index])\n",
    "        elif max(min_values) > d:\n",
    "            removed_item_index = min_values.index(max(min_values))\n",
    "            min_values[removed_item_index] = d\n",
    "            min_labels[removed_item_index] = labels[index]\n",
    "\n",
    "    majority = max(min_labels, key=min_labels.count)\n",
    "    \n",
    "    return majority"
   ]
  },
  {
   "cell_type": "code",
   "execution_count": 6,
   "metadata": {},
   "outputs": [
    {
     "name": "stdout",
     "output_type": "stream",
     "text": [
      "key of data_batch_1:  dict_keys([b'batch_label', b'labels', b'data', b'filenames'])\n",
      "the number of images in data_batch_1:  10000\n",
      "the number of images in test_batch:  10000\n"
     ]
    }
   ],
   "source": [
    "data_batch_1 = unpickle('../cifar-10-batches-py/data_batch_1')\n",
    "test_batch = unpickle('../cifar-10-batches-py/test_batch')\n",
    "\n",
    "print(\"key of data_batch_1: \", data_batch_1.keys())\n",
    "print(\"the number of images in data_batch_1: \", len(data_batch_1[b'labels']))\n",
    "print(\"the number of images in test_batch: \", len(test_batch[b'labels']))"
   ]
  },
  {
   "cell_type": "code",
   "execution_count": 7,
   "metadata": {},
   "outputs": [],
   "source": [
    "# train data_batch_1\n",
    "train(data_batch_1[b'data'], data_batch_1[b'labels'])"
   ]
  },
  {
   "cell_type": "code",
   "execution_count": 8,
   "metadata": {},
   "outputs": [
    {
     "name": "stdout",
     "output_type": "stream",
     "text": [
      "index 0, label is 3, and predicted label is 6 and 4\n",
      "index 1, label is 8, and predicted label is 1 and 8\n",
      "index 2, label is 8, and predicted label is 1 and 8\n",
      "index 3, label is 0, and predicted label is 8 and 0\n",
      "index 4, label is 6, and predicted label is 6 and 4\n",
      "index 5, label is 6, and predicted label is 4 and 8\n",
      "index 6, label is 1, and predicted label is 2 and 6\n",
      "index 7, label is 6, and predicted label is 2 and 2\n",
      "index 8, label is 3, and predicted label is 4 and 7\n",
      "index 9, label is 1, and predicted label is 1 and 3\n",
      "index 10, label is 0, and predicted label is 0 and 8\n",
      "index 11, label is 9, and predicted label is 6 and 9\n",
      "index 12, label is 5, and predicted label is 8 and 8\n",
      "index 13, label is 7, and predicted label is 6 and 2\n",
      "index 14, label is 9, and predicted label is 6 and 9\n",
      "index 15, label is 8, and predicted label is 4 and 9\n",
      "index 16, label is 5, and predicted label is 3 and 0\n",
      "index 17, label is 7, and predicted label is 4 and 0\n",
      "index 18, label is 8, and predicted label is 0 and 1\n",
      "index 19, label is 6, and predicted label is 6 and 3\n",
      "index 20, label is 7, and predicted label is 3 and 4\n",
      "index 21, label is 0, and predicted label is 0 and 6\n",
      "index 22, label is 4, and predicted label is 0 and 0\n",
      "index 23, label is 9, and predicted label is 3 and 0\n",
      "index 24, label is 5, and predicted label is 2 and 0\n",
      "index 25, label is 2, and predicted label is 3 and 8\n",
      "index 26, label is 4, and predicted label is 3 and 8\n",
      "index 27, label is 0, and predicted label is 0 and 0\n",
      "index 28, label is 9, and predicted label is 5 and 9\n",
      "index 29, label is 6, and predicted label is 2 and 8\n",
      "index 30, label is 6, and predicted label is 2 and 3\n",
      "index 31, label is 5, and predicted label is 4 and 0\n",
      "index 32, label is 4, and predicted label is 6 and 0\n",
      "index 33, label is 5, and predicted label is 7 and 3\n",
      "index 34, label is 9, and predicted label is 5 and 3\n",
      "index 35, label is 2, and predicted label is 7 and 8\n",
      "index 36, label is 4, and predicted label is 8 and 6\n",
      "index 37, label is 1, and predicted label is 9 and 8\n",
      "index 38, label is 9, and predicted label is 6 and 0\n",
      "index 39, label is 5, and predicted label is 4 and 0\n",
      "index 40, label is 4, and predicted label is 8 and 8\n",
      "index 41, label is 6, and predicted label is 2 and 2\n",
      "index 42, label is 5, and predicted label is 1 and 6\n",
      "index 43, label is 6, and predicted label is 0 and 2\n",
      "index 44, label is 0, and predicted label is 0 and 2\n",
      "index 45, label is 9, and predicted label is 0 and 0\n",
      "index 46, label is 3, and predicted label is 3 and 3\n",
      "index 47, label is 9, and predicted label is 3 and 2\n",
      "index 48, label is 7, and predicted label is 6 and 2\n",
      "index 49, label is 6, and predicted label is 2 and 2\n",
      "index 50, label is 9, and predicted label is 0 and 2\n",
      "index 51, label is 8, and predicted label is 2 and 2\n",
      "index 52, label is 0, and predicted label is 2 and 2\n",
      "index 53, label is 3, and predicted label is 1 and 0\n",
      "index 54, label is 8, and predicted label is 8 and 1\n",
      "index 55, label is 8, and predicted label is 8 and 4\n",
      "index 56, label is 7, and predicted label is 3 and 6\n",
      "index 57, label is 7, and predicted label is 0 and 0\n",
      "index 58, label is 4, and predicted label is 7 and 8\n",
      "index 59, label is 6, and predicted label is 4 and 6\n",
      "index 60, label is 7, and predicted label is 7 and 0\n",
      "index 61, label is 3, and predicted label is 4 and 6\n",
      "index 62, label is 6, and predicted label is 0 and 7\n",
      "index 63, label is 3, and predicted label is 3 and 7\n",
      "index 64, label is 6, and predicted label is 6 and 2\n",
      "index 65, label is 2, and predicted label is 2 and 6\n",
      "index 66, label is 1, and predicted label is 4 and 1\n",
      "index 67, label is 2, and predicted label is 0 and 0\n",
      "index 68, label is 3, and predicted label is 0 and 2\n",
      "index 69, label is 7, and predicted label is 1 and 0\n",
      "index 70, label is 2, and predicted label is 4 and 2\n",
      "index 71, label is 6, and predicted label is 1 and 7\n",
      "index 72, label is 8, and predicted label is 8 and 2\n",
      "index 73, label is 8, and predicted label is 2 and 0\n",
      "index 74, label is 0, and predicted label is 8 and 1\n",
      "index 75, label is 2, and predicted label is 4 and 4\n",
      "index 76, label is 9, and predicted label is 9 and 0\n",
      "index 77, label is 3, and predicted label is 6 and 0\n",
      "index 78, label is 3, and predicted label is 0 and 2\n",
      "index 79, label is 8, and predicted label is 8 and 1\n",
      "index 80, label is 8, and predicted label is 8 and 8\n",
      "index 81, label is 1, and predicted label is 0 and 0\n",
      "index 82, label is 1, and predicted label is 2 and 0\n",
      "index 83, label is 7, and predicted label is 0 and 8\n",
      "index 84, label is 2, and predicted label is 8 and 8\n",
      "index 85, label is 5, and predicted label is 1 and 8\n",
      "index 86, label is 2, and predicted label is 2 and 2\n",
      "index 87, label is 7, and predicted label is 9 and 1\n",
      "index 88, label is 8, and predicted label is 0 and 8\n",
      "index 89, label is 9, and predicted label is 4 and 8\n",
      "index 90, label is 0, and predicted label is 8 and 0\n",
      "index 91, label is 3, and predicted label is 2 and 2\n",
      "index 92, label is 8, and predicted label is 8 and 0\n",
      "index 93, label is 6, and predicted label is 5 and 4\n",
      "index 94, label is 4, and predicted label is 2 and 0\n",
      "index 95, label is 6, and predicted label is 6 and 0\n",
      "index 96, label is 6, and predicted label is 3 and 2\n",
      "index 97, label is 0, and predicted label is 0 and 0\n",
      "index 98, label is 0, and predicted label is 0 and 0\n",
      "index 99, label is 7, and predicted label is 7 and 1\n"
     ]
    }
   ],
   "source": [
    "correct_l1 = 0\n",
    "correct_l2 = 0\n",
    "\n",
    "count = 0\n",
    "\n",
    "for index in range(len(test_batch[b'data'])):\n",
    "    data = test_batch[b'data'][index]\n",
    "    label = test_batch[b'labels'][index]\n",
    "    \n",
    "    kNN_output = predict(data)\n",
    "    kNN_output_l2 = predict(data, distance=L2_distance)\n",
    "    \n",
    "    if kNN_output == label:\n",
    "        correct_l1 += 1\n",
    "    if kNN_output_l2 == label:\n",
    "        correct_l2 += 1\n",
    "    count += 1\n",
    "    \n",
    "    print(f\"index {index}, label is {label}, and predicted label is {kNN_output} and {kNN_output_l2}\")\n",
    "    \n",
    "    if count == 100:\n",
    "        break"
   ]
  },
  {
   "cell_type": "code",
   "execution_count": 9,
   "metadata": {},
   "outputs": [
    {
     "name": "stdout",
     "output_type": "stream",
     "text": [
      "accuracy of kNN using L1 distance:  24.0 %\n",
      "accuracy of kNN using L2 distance:  17.0 %\n"
     ]
    }
   ],
   "source": [
    "print(\"accuracy of kNN using L1 distance: \", 100 * correct_l1 / count, \"%\")\n",
    "print(\"accuracy of kNN using L2 distance: \", 100 * correct_l2 / count, \"%\")"
   ]
  }
 ],
 "metadata": {
  "kernelspec": {
   "display_name": "Python 3",
   "language": "python",
   "name": "python3"
  },
  "language_info": {
   "codemirror_mode": {
    "name": "ipython",
    "version": 3
   },
   "file_extension": ".py",
   "mimetype": "text/x-python",
   "name": "python",
   "nbconvert_exporter": "python",
   "pygments_lexer": "ipython3",
   "version": "3.6.6"
  }
 },
 "nbformat": 4,
 "nbformat_minor": 2
}
